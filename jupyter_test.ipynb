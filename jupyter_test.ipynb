{
  "nbformat": 4,
  "nbformat_minor": 0,
  "metadata": {
    "kernelspec": {
      "display_name": "Python 3",
      "language": "python",
      "name": "python3"
    },
    "language_info": {
      "codemirror_mode": {
        "name": "ipython",
        "version": 3
      },
      "file_extension": ".py",
      "mimetype": "text/x-python",
      "name": "python",
      "nbconvert_exporter": "python",
      "pygments_lexer": "ipython3",
      "version": "3.7.4"
    },
    "colab": {
      "name": "jupyter_test.ipynb",
      "provenance": [],
      "include_colab_link": true
    }
  },
  "cells": [
    {
      "cell_type": "markdown",
      "metadata": {
        "id": "view-in-github",
        "colab_type": "text"
      },
      "source": [
        "<a href=\"https://colab.research.google.com/github/aldoalprak/python-test/blob/master/jupyter_test.ipynb\" target=\"_parent\"><img src=\"https://colab.research.google.com/assets/colab-badge.svg\" alt=\"Open In Colab\"/></a>"
      ]
    },
    {
      "cell_type": "code",
      "metadata": {
        "id": "i10cuIZ6K9GY",
        "colab_type": "code",
        "outputId": "74870bec-7a4b-4b21-d525-24475b917b71",
        "colab": {
          "base_uri": "https://localhost:8080/",
          "height": 105
        }
      },
      "source": [
        "import numpy as np\n",
        "import tensorflow.compat.v1 as tf\n",
        "tf.disable_v2_behavior() \n",
        "\n"
      ],
      "execution_count": 5,
      "outputs": [
        {
          "output_type": "stream",
          "text": [
            "WARNING:tensorflow:From /usr/local/lib/python3.6/dist-packages/tensorflow/python/compat/v2_compat.py:95: disable_resource_variables (from tensorflow.python.ops.variable_scope) is deprecated and will be removed in a future version.\n",
            "Instructions for updating:\n",
            "non-resource variables are not supported in the long term\n",
            "[ 4. 10. 18.]\n"
          ],
          "name": "stdout"
        }
      ]
    },
    {
      "cell_type": "code",
      "metadata": {
        "id": "iwQv7Ik0T-uo",
        "colab_type": "code",
        "colab": {}
      },
      "source": [
        "learning_rate = 0.001\n",
        "\n",
        "b = tf.Variable([.3], tf.float32)\n",
        "W = tf.Variable([-.3], tf.float32)\n",
        "x = tf.placeholder(tf.float32)\n",
        "y = tf.placeholder(tf.float32)"
      ],
      "execution_count": 0,
      "outputs": []
    },
    {
      "cell_type": "code",
      "metadata": {
        "id": "IW5fHfACK9Gk",
        "colab_type": "code",
        "colab": {}
      },
      "source": [
        "\n",
        "X_train      = [4.0, 0.0, 12.0]\n",
        "Y_train      = [5.0, 9, -3]\n",
        "linear_model = W*x + b   # y = W*x + b; 5= -1*4 + 9; 9=1*0 + 9;  -3 = -1*12 + 9"
      ],
      "execution_count": 0,
      "outputs": []
    },
    {
      "cell_type": "code",
      "metadata": {
        "id": "XjqHiMxxar1k",
        "colab_type": "code",
        "colab": {}
      },
      "source": [
        "model_delta = tf.square(linear_model - y)\n",
        "loss        = tf.reduce_sum(model_delta)\n",
        "optimizer   = tf.train.GradientDescentOptimizer(learning_rate).minimize(loss)\n",
        "init        = tf.global_variables_initializer()"
      ],
      "execution_count": 0,
      "outputs": []
    },
    {
      "cell_type": "code",
      "metadata": {
        "id": "z6rWQ7USavFC",
        "colab_type": "code",
        "colab": {
          "base_uri": "https://localhost:8080/",
          "height": 51
        },
        "outputId": "014d1e81-f0e6-415c-e82a-a8c60e96af52"
      },
      "source": [
        "with tf.Session() as sess:\n",
        "    sess.run(init)\n",
        "    for i in range(100000):\n",
        "        feed_dict_batch = {x: X_train, y: Y_train}\n",
        "        sess.run(optimizer, feed_dict=feed_dict_batch)\n",
        "    W_value, b_value = sess.run([W, b])\n",
        "    print(W_value)\n",
        "    print(b_value)"
      ],
      "execution_count": 10,
      "outputs": [
        {
          "output_type": "stream",
          "text": [
            "[-0.99998295]\n",
            "[8.99983]\n"
          ],
          "name": "stdout"
        }
      ]
    }
  ]
}